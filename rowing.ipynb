{
 "cells": [
  {
   "cell_type": "code",
   "execution_count": 1,
   "metadata": {
    "ExecuteTime": {
     "end_time": "2018-07-15T21:13:37.419742Z",
     "start_time": "2018-07-15T21:13:36.677292Z"
    }
   },
   "outputs": [],
   "source": [
    "import pandas as pd\n",
    "from datetime import datetime\n",
    "import time\n",
    "from datetime import timedelta\n",
    "import ipywidgets as widgets\n",
    "\n",
    "%matplotlib inline"
   ]
  },
  {
   "cell_type": "code",
   "execution_count": 2,
   "metadata": {
    "ExecuteTime": {
     "end_time": "2018-07-15T21:13:37.430882Z",
     "start_time": "2018-07-15T21:13:37.421804Z"
    }
   },
   "outputs": [],
   "source": [
    "def convert_to_seconds(t_str):\n",
    "    if isinstance(t_str, str):\n",
    "        t = (datetime.strptime(t_str, '%M:%S.%f')).time()\n",
    "        return ((t.hour * 60 + t.minute) * 60 + t.second + (t.microsecond / 1000000))\n",
    "    return None\n",
    "\n",
    "def convert_to_timestamp(secs):\n",
    "    return str(timedelta(seconds=secs))"
   ]
  },
  {
   "cell_type": "code",
   "execution_count": 80,
   "metadata": {
    "ExecuteTime": {
     "end_time": "2018-07-15T18:38:16.698070Z",
     "start_time": "2018-07-15T18:38:16.689322Z"
    }
   },
   "outputs": [],
   "source": [
    "c2_log = pd.read_csv('data/LogCard.csv', header=3)\n",
    "\n",
    "filter = (c2_log['Name'] == 'Bob') & (c2_log['Unnamed: 0'].isnull()) \n",
    "c2_log = c2_log[filter].copy()\n",
    "c2_log = c2_log.dropna(axis=1, how='all').copy()\n",
    "c2_log['Date'] = pd.to_datetime(c2_log['Date'])\n",
    "c2_log['time_seconds'] = c2_log['Time'].apply(convert_to_seconds)\n",
    "c2_log['time1_seconds'] = c2_log['Time.1'].apply(convert_to_seconds)\n",
    "\n",
    "c2_log['workout_seq'] = c2_log.groupby(['Date', 'Time of Day', 'Workout Name']).cumcount() + 1"
   ]
  },
  {
   "cell_type": "markdown",
   "metadata": {},
   "source": [
    "### Today's workout"
   ]
  },
  {
   "cell_type": "code",
   "execution_count": 81,
   "metadata": {
    "ExecuteTime": {
     "end_time": "2018-07-15T18:38:17.799344Z",
     "start_time": "2018-07-15T18:38:17.794087Z"
    }
   },
   "outputs": [
    {
     "data": {
      "text/plain": [
       "datetime.date(2018, 7, 15)"
      ]
     },
     "execution_count": 81,
     "metadata": {},
     "output_type": "execute_result"
    }
   ],
   "source": [
    "today = datetime.now().date()\n",
    "today"
   ]
  },
  {
   "cell_type": "code",
   "execution_count": 82,
   "metadata": {
    "ExecuteTime": {
     "end_time": "2018-07-15T18:38:18.283625Z",
     "start_time": "2018-07-15T18:38:18.274423Z"
    }
   },
   "outputs": [
    {
     "data": {
      "text/plain": [
       "401    220.8\n",
       "402    220.3\n",
       "403    219.8\n",
       "404    212.6\n",
       "Name: time1_seconds, dtype: float64"
      ]
     },
     "execution_count": 82,
     "metadata": {},
     "output_type": "execute_result"
    }
   ],
   "source": [
    "filter = (c2_log['Date'] == today) & (c2_log['Time.1'].isnull() == False)\n",
    "c2_log[filter]['time1_seconds']"
   ]
  },
  {
   "cell_type": "code",
   "execution_count": 83,
   "metadata": {
    "ExecuteTime": {
     "end_time": "2018-07-15T18:38:19.268811Z",
     "start_time": "2018-07-15T18:38:19.218156Z"
    }
   },
   "outputs": [],
   "source": [
    "filter = (c2_log['Date'] == today)\n",
    "s = ' | ' + c2_log['Time.1']\n",
    "c2_log[filter][['/500m']].join(s).to_clipboard(index=False)"
   ]
  },
  {
   "cell_type": "code",
   "execution_count": 84,
   "metadata": {
    "ExecuteTime": {
     "end_time": "2018-07-15T18:38:19.778560Z",
     "start_time": "2018-07-15T18:38:19.744058Z"
    }
   },
   "outputs": [],
   "source": [
    "# pyramid\n",
    "filter = (c2_log['Date'] == today) & (c2_log['/500m'].isnull() == False)\n",
    "#c2_log.loc[filter, ['Meters.1', '/500m', 'Time.1']].head(7).to_clipboard(index=False)\n",
    "c2_log.loc[filter, ['Meters.1', '/500m']].to_clipboard(index=False)"
   ]
  },
  {
   "cell_type": "code",
   "execution_count": 85,
   "metadata": {
    "ExecuteTime": {
     "end_time": "2018-07-15T18:38:20.550845Z",
     "start_time": "2018-07-15T18:38:20.512287Z"
    }
   },
   "outputs": [],
   "source": [
    "# 3,000m, 2,500m, 2,000m\n",
    "filter = (c2_log['/500m'].isnull() == False) | (c2_log['Time.1'].isnull() == False)\n",
    "s = ' | ' + c2_log['Time.1']\n",
    "c2_log[filter][['/500m']].join(s).head(4).to_clipboard(index=False)"
   ]
  },
  {
   "cell_type": "markdown",
   "metadata": {},
   "source": [
    "### Past PP workouts"
   ]
  },
  {
   "cell_type": "code",
   "execution_count": 86,
   "metadata": {
    "ExecuteTime": {
     "end_time": "2018-07-15T18:38:24.993789Z",
     "start_time": "2018-07-15T18:38:24.978899Z"
    }
   },
   "outputs": [
    {
     "data": {
      "application/vnd.jupyter.widget-view+json": {
       "model_id": "1bee809aa99845fb8574871bb6e0fb1e"
      }
     },
     "metadata": {},
     "output_type": "display_data"
    }
   ],
   "source": [
    "drp = widgets.Dropdown(options=['4x2000m/5:00r', '4x1000m/5:00r', '5x1500m/5:00r', '8x500m/3:30r', 'v250m/1:30r...7', 'v3000m/5:00r...3'])\n",
    "drp"
   ]
  },
  {
   "cell_type": "code",
   "execution_count": 88,
   "metadata": {
    "ExecuteTime": {
     "end_time": "2018-07-15T18:38:31.022555Z",
     "start_time": "2018-07-15T18:38:31.002742Z"
    }
   },
   "outputs": [
    {
     "data": {
      "text/html": [
       "<div>\n",
       "<style scoped>\n",
       "    .dataframe tbody tr th:only-of-type {\n",
       "        vertical-align: middle;\n",
       "    }\n",
       "\n",
       "    .dataframe tbody tr th {\n",
       "        vertical-align: top;\n",
       "    }\n",
       "\n",
       "    .dataframe thead th {\n",
       "        text-align: right;\n",
       "    }\n",
       "</style>\n",
       "<table border=\"1\" class=\"dataframe\">\n",
       "  <thead>\n",
       "    <tr style=\"text-align: right;\">\n",
       "      <th></th>\n",
       "      <th>2018-06-24</th>\n",
       "      <th>2018-07-15</th>\n",
       "    </tr>\n",
       "    <tr>\n",
       "      <th>workout_seq</th>\n",
       "      <th></th>\n",
       "      <th></th>\n",
       "    </tr>\n",
       "  </thead>\n",
       "  <tbody>\n",
       "    <tr>\n",
       "      <th>1</th>\n",
       "      <td>01:51.1</td>\n",
       "      <td>01:49.1</td>\n",
       "    </tr>\n",
       "    <tr>\n",
       "      <th>2</th>\n",
       "      <td>01:53.6</td>\n",
       "      <td>01:50.4</td>\n",
       "    </tr>\n",
       "    <tr>\n",
       "      <th>3</th>\n",
       "      <td>01:53.7</td>\n",
       "      <td>01:50.1</td>\n",
       "    </tr>\n",
       "    <tr>\n",
       "      <th>4</th>\n",
       "      <td>01:52.8</td>\n",
       "      <td>01:49.9</td>\n",
       "    </tr>\n",
       "    <tr>\n",
       "      <th>5</th>\n",
       "      <td>01:44.4</td>\n",
       "      <td>01:46.3</td>\n",
       "    </tr>\n",
       "  </tbody>\n",
       "</table>\n",
       "</div>"
      ],
      "text/plain": [
       "            2018-06-24 2018-07-15\n",
       "workout_seq                      \n",
       "1              01:51.1    01:49.1\n",
       "2              01:53.6    01:50.4\n",
       "3              01:53.7    01:50.1\n",
       "4              01:52.8    01:49.9\n",
       "5              01:44.4    01:46.3"
      ]
     },
     "execution_count": 88,
     "metadata": {},
     "output_type": "execute_result"
    }
   ],
   "source": [
    "# '4x2000m/5:00r', '4x1000m/5:00r', '5x1500m/5:00r', '8x500m/3:30r', 'v250m/1:30r...7', 'v3000m/5:00r...3'\n",
    "workout_name = drp.value \n",
    "\n",
    "filter = (c2_log['Workout Name'] == workout_name) & (c2_log['/500m'].isnull() == False) #& (c2_log['Meters.1'].isnull() == False)\n",
    "pv = c2_log[filter][['Date', '/500m', 'Time.1', 'workout_seq']].pivot(columns='Date', index='workout_seq', values='/500m')\n",
    "pv.columns = [d.date() for d in pv.columns]\n",
    "pv"
   ]
  },
  {
   "cell_type": "code",
   "execution_count": 89,
   "metadata": {
    "ExecuteTime": {
     "end_time": "2018-07-15T18:41:59.318941Z",
     "start_time": "2018-07-15T18:41:59.289945Z"
    }
   },
   "outputs": [],
   "source": [
    "pv.to_clipboard(index=False)"
   ]
  },
  {
   "cell_type": "markdown",
   "metadata": {},
   "source": [
    "### PRs"
   ]
  },
  {
   "cell_type": "code",
   "execution_count": 9,
   "metadata": {
    "ExecuteTime": {
     "end_time": "2018-07-15T15:13:47.075378Z",
     "start_time": "2018-07-15T15:13:47.042947Z"
    }
   },
   "outputs": [
    {
     "data": {
      "text/html": [
       "<div>\n",
       "<style scoped>\n",
       "    .dataframe tbody tr th:only-of-type {\n",
       "        vertical-align: middle;\n",
       "    }\n",
       "\n",
       "    .dataframe tbody tr th {\n",
       "        vertical-align: top;\n",
       "    }\n",
       "\n",
       "    .dataframe thead th {\n",
       "        text-align: right;\n",
       "    }\n",
       "</style>\n",
       "<table border=\"1\" class=\"dataframe\">\n",
       "  <thead>\n",
       "    <tr style=\"text-align: right;\">\n",
       "      <th></th>\n",
       "      <th></th>\n",
       "      <th>Date</th>\n",
       "      <th>Time</th>\n",
       "      <th>time_seconds</th>\n",
       "    </tr>\n",
       "    <tr>\n",
       "      <th>Workout Name</th>\n",
       "      <th></th>\n",
       "      <th></th>\n",
       "      <th></th>\n",
       "      <th></th>\n",
       "    </tr>\n",
       "  </thead>\n",
       "  <tbody>\n",
       "    <tr>\n",
       "      <th>100m</th>\n",
       "      <th>835</th>\n",
       "      <td>2015-09-06</td>\n",
       "      <td>00:16.8</td>\n",
       "      <td>16.8</td>\n",
       "    </tr>\n",
       "    <tr>\n",
       "      <th>500m</th>\n",
       "      <th>813</th>\n",
       "      <td>2015-09-13</td>\n",
       "      <td>01:24.8</td>\n",
       "      <td>84.8</td>\n",
       "    </tr>\n",
       "    <tr>\n",
       "      <th>1000m</th>\n",
       "      <th>800</th>\n",
       "      <td>2015-09-20</td>\n",
       "      <td>03:07.0</td>\n",
       "      <td>187.0</td>\n",
       "    </tr>\n",
       "    <tr>\n",
       "      <th>2000m</th>\n",
       "      <th>663</th>\n",
       "      <td>2017-02-12</td>\n",
       "      <td>06:50.4</td>\n",
       "      <td>410.4</td>\n",
       "    </tr>\n",
       "    <tr>\n",
       "      <th>5000m</th>\n",
       "      <th>1023</th>\n",
       "      <td>2013-06-03</td>\n",
       "      <td>18:50.4</td>\n",
       "      <td>1130.4</td>\n",
       "    </tr>\n",
       "  </tbody>\n",
       "</table>\n",
       "</div>"
      ],
      "text/plain": [
       "                        Date     Time  time_seconds\n",
       "Workout Name                                       \n",
       "100m         835  2015-09-06  00:16.8          16.8\n",
       "500m         813  2015-09-13  01:24.8          84.8\n",
       "1000m        800  2015-09-20  03:07.0         187.0\n",
       "2000m        663  2017-02-12  06:50.4         410.4\n",
       "5000m        1023 2013-06-03  18:50.4        1130.4"
      ]
     },
     "execution_count": 9,
     "metadata": {},
     "output_type": "execute_result"
    }
   ],
   "source": [
    "# 06:45.8 2000 Bob Haffner 1:41.4\n",
    "filter = c2_log['Workout Name'].isin(['100m', '500m', '1000m', '2000m', '5000m'])\n",
    "cols = ['Date', 'Time', 'time_seconds']\n",
    "c2_log[filter].groupby('Workout Name')[cols].apply(lambda x : x.nsmallest(n=1, columns='time_seconds')).sort_values('time_seconds')"
   ]
  },
  {
   "cell_type": "code",
   "execution_count": null,
   "metadata": {},
   "outputs": [],
   "source": []
  }
 ],
 "metadata": {
  "kernelspec": {
   "display_name": "Python [conda env:dev35]",
   "language": "python",
   "name": "conda-env-dev35-py"
  },
  "language_info": {
   "codemirror_mode": {
    "name": "ipython",
    "version": 3
   },
   "file_extension": ".py",
   "mimetype": "text/x-python",
   "name": "python",
   "nbconvert_exporter": "python",
   "pygments_lexer": "ipython3",
   "version": "3.5.4"
  }
 },
 "nbformat": 4,
 "nbformat_minor": 2
}
