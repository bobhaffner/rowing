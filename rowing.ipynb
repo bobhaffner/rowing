{
 "cells": [
  {
   "cell_type": "code",
   "execution_count": 22,
   "metadata": {
    "ExecuteTime": {
     "end_time": "2018-07-29T01:53:21.634925Z",
     "start_time": "2018-07-29T01:53:21.615339Z"
    }
   },
   "outputs": [],
   "source": [
    "import pandas as pd\n",
    "from datetime import datetime\n",
    "import time\n",
    "from datetime import timedelta\n",
    "import ipywidgets as widgets\n",
    "import pprint\n",
    "import os\n",
    "\n",
    "%matplotlib inline"
   ]
  },
  {
   "cell_type": "code",
   "execution_count": 2,
   "metadata": {
    "ExecuteTime": {
     "end_time": "2018-07-28T20:22:27.246793Z",
     "start_time": "2018-07-28T20:22:27.236766Z"
    }
   },
   "outputs": [],
   "source": [
    "def convert_to_seconds(t_str):\n",
    "    if isinstance(t_str, str):\n",
    "        t = (datetime.strptime(t_str, '%M:%S.%f')).time()\n",
    "        return ((t.hour * 60 + t.minute) * 60 + t.second + (t.microsecond / 1000000))\n",
    "    return None\n",
    "\n",
    "def convert_to_timestamp(secs):\n",
    "    return str(timedelta(seconds=secs))"
   ]
  },
  {
   "cell_type": "code",
   "execution_count": 3,
   "metadata": {
    "ExecuteTime": {
     "end_time": "2018-07-28T20:22:27.601508Z",
     "start_time": "2018-07-28T20:22:27.248819Z"
    }
   },
   "outputs": [],
   "source": [
    "c2_log = pd.read_csv('data/LogCard.csv', header=3)\n",
    "\n",
    "filter = (c2_log['Name'] == 'Bob') & (c2_log['Unnamed: 0'].isnull()) \n",
    "c2_log = c2_log[filter].copy()\n",
    "c2_log = c2_log.dropna(axis=1, how='all').copy()\n",
    "c2_log['Date'] = pd.to_datetime(c2_log['Date'])\n",
    "c2_log['time_seconds'] = c2_log['Time'].apply(convert_to_seconds)\n",
    "c2_log['time1_seconds'] = c2_log['Time.1'].apply(convert_to_seconds)\n",
    "\n",
    "c2_log['workout_seq'] = c2_log.groupby(['Date', 'Time of Day', 'Workout Name']).cumcount() + 1"
   ]
  },
  {
   "cell_type": "markdown",
   "metadata": {},
   "source": [
    "### Today's workout"
   ]
  },
  {
   "cell_type": "code",
   "execution_count": 15,
   "metadata": {
    "ExecuteTime": {
     "end_time": "2018-07-26T00:21:29.440575Z",
     "start_time": "2018-07-26T00:21:29.434689Z"
    }
   },
   "outputs": [
    {
     "data": {
      "text/plain": [
       "datetime.date(2018, 7, 25)"
      ]
     },
     "execution_count": 15,
     "metadata": {},
     "output_type": "execute_result"
    }
   ],
   "source": [
    "today = datetime.now().date()\n",
    "today"
   ]
  },
  {
   "cell_type": "code",
   "execution_count": 16,
   "metadata": {
    "ExecuteTime": {
     "end_time": "2018-07-26T00:21:29.817605Z",
     "start_time": "2018-07-26T00:21:29.807089Z"
    }
   },
   "outputs": [
    {
     "data": {
      "text/plain": [
       "401    105.7\n",
       "402    105.4\n",
       "403    105.9\n",
       "404    105.4\n",
       "405    105.2\n",
       "406    106.0\n",
       "407    104.4\n",
       "408     94.5\n",
       "Name: time1_seconds, dtype: float64"
      ]
     },
     "execution_count": 16,
     "metadata": {},
     "output_type": "execute_result"
    }
   ],
   "source": [
    "filter = (c2_log['Date'] == today) & (c2_log['Time.1'].isnull() == False)\n",
    "c2_log[filter]['time1_seconds']"
   ]
  },
  {
   "cell_type": "code",
   "execution_count": 17,
   "metadata": {
    "ExecuteTime": {
     "end_time": "2018-07-26T00:21:30.436004Z",
     "start_time": "2018-07-26T00:21:30.395104Z"
    }
   },
   "outputs": [],
   "source": [
    "filter = (c2_log['Date'] == today)\n",
    "s = ' | ' + c2_log['Time.1']\n",
    "c2_log[filter][['/500m']].join(s).to_clipboard(index=False)"
   ]
  },
  {
   "cell_type": "code",
   "execution_count": 18,
   "metadata": {
    "ExecuteTime": {
     "end_time": "2018-07-26T00:21:31.110108Z",
     "start_time": "2018-07-26T00:21:31.079413Z"
    }
   },
   "outputs": [],
   "source": [
    "# pyramid\n",
    "filter = (c2_log['Date'] == today) & (c2_log['/500m'].isnull() == False)\n",
    "#c2_log.loc[filter, ['Meters.1', '/500m', 'Time.1']].head(7).to_clipboard(index=False)\n",
    "c2_log.loc[filter, ['Meters.1', '/500m']].to_clipboard(index=False)"
   ]
  },
  {
   "cell_type": "code",
   "execution_count": 19,
   "metadata": {
    "ExecuteTime": {
     "end_time": "2018-07-26T00:21:31.766332Z",
     "start_time": "2018-07-26T00:21:31.730837Z"
    }
   },
   "outputs": [],
   "source": [
    "# 3,000m, 2,500m, 2,000m\n",
    "filter = (c2_log['/500m'].isnull() == False) | (c2_log['Time.1'].isnull() == False)\n",
    "s = ' | ' + c2_log['Time.1']\n",
    "c2_log[filter][['/500m']].join(s).head(4).to_clipboard(index=False)"
   ]
  },
  {
   "cell_type": "markdown",
   "metadata": {},
   "source": [
    "### Past PP workouts"
   ]
  },
  {
   "cell_type": "code",
   "execution_count": 122,
   "metadata": {
    "ExecuteTime": {
     "end_time": "2018-07-29T04:12:02.645439Z",
     "start_time": "2018-07-29T04:12:02.640924Z"
    }
   },
   "outputs": [],
   "source": [
    "#workout_name = '8x500m/3:30r'         # Week 1\n",
    "#workout_name = 'v250m/1:30r...7'     # Week 2\n",
    "#workout_name = '4x1000m/5:00r'       # Week 3\n",
    "workout_name = '5x1500m/5:00r'        # Week 1\n",
    "#workout_name = '4x2000m/5:00r'       # Week 2\n",
    "#workout_name = 'v3000m/5:00r...3'    # Week 3"
   ]
  },
  {
   "cell_type": "code",
   "execution_count": 123,
   "metadata": {
    "ExecuteTime": {
     "end_time": "2018-07-29T04:12:03.080430Z",
     "start_time": "2018-07-29T04:12:03.048735Z"
    }
   },
   "outputs": [
    {
     "name": "stderr",
     "output_type": "stream",
     "text": [
      "/Users/bob/miniconda3/envs/dev35/lib/python3.5/site-packages/pandas/core/generic.py:2530: PerformanceWarning: dropping on a non-lexsorted multi-index without a level parameter may impact performance.\n",
      "  obj = obj._drop_axis(labels, axis, level=level, errors=errors)\n"
     ]
    },
    {
     "data": {
      "text/html": [
       "<div>\n",
       "<style scoped>\n",
       "    .dataframe tbody tr th:only-of-type {\n",
       "        vertical-align: middle;\n",
       "    }\n",
       "\n",
       "    .dataframe tbody tr th {\n",
       "        vertical-align: top;\n",
       "    }\n",
       "\n",
       "    .dataframe thead tr th {\n",
       "        text-align: left;\n",
       "    }\n",
       "</style>\n",
       "<table border=\"1\" class=\"dataframe\">\n",
       "  <thead>\n",
       "    <tr>\n",
       "      <th></th>\n",
       "      <th>Meters.1</th>\n",
       "      <th colspan=\"3\" halign=\"left\">/500m</th>\n",
       "    </tr>\n",
       "    <tr>\n",
       "      <th>Date</th>\n",
       "      <th></th>\n",
       "      <th>2018-06-13 00:00:00</th>\n",
       "      <th>2018-07-04 00:00:00</th>\n",
       "      <th>2018-07-28 00:00:00</th>\n",
       "    </tr>\n",
       "  </thead>\n",
       "  <tbody>\n",
       "    <tr>\n",
       "      <th>0</th>\n",
       "      <td>NaN</td>\n",
       "      <td>01:56.6</td>\n",
       "      <td>01:54.7</td>\n",
       "      <td>01:52.0</td>\n",
       "    </tr>\n",
       "    <tr>\n",
       "      <th>1</th>\n",
       "      <td>1500</td>\n",
       "      <td>01:54.5</td>\n",
       "      <td>01:55.4</td>\n",
       "      <td>01:53.4</td>\n",
       "    </tr>\n",
       "    <tr>\n",
       "      <th>2</th>\n",
       "      <td>1500</td>\n",
       "      <td>01:55.5</td>\n",
       "      <td>01:54.8</td>\n",
       "      <td>01:53.4</td>\n",
       "    </tr>\n",
       "    <tr>\n",
       "      <th>3</th>\n",
       "      <td>1500</td>\n",
       "      <td>01:57.2</td>\n",
       "      <td>01:55.4</td>\n",
       "      <td>01:53.3</td>\n",
       "    </tr>\n",
       "    <tr>\n",
       "      <th>4</th>\n",
       "      <td>1500</td>\n",
       "      <td>01:57.3</td>\n",
       "      <td>01:55.3</td>\n",
       "      <td>01:53.0</td>\n",
       "    </tr>\n",
       "    <tr>\n",
       "      <th>5</th>\n",
       "      <td>1500</td>\n",
       "      <td>01:58.3</td>\n",
       "      <td>01:52.7</td>\n",
       "      <td>01:47.0</td>\n",
       "    </tr>\n",
       "  </tbody>\n",
       "</table>\n",
       "</div>"
      ],
      "text/plain": [
       "     Meters.1               /500m                                        \n",
       "Date          2018-06-13 00:00:00 2018-07-04 00:00:00 2018-07-28 00:00:00\n",
       "0         NaN             01:56.6             01:54.7             01:52.0\n",
       "1        1500             01:54.5             01:55.4             01:53.4\n",
       "2        1500             01:55.5             01:54.8             01:53.4\n",
       "3        1500             01:57.2             01:55.4             01:53.3\n",
       "4        1500             01:57.3             01:55.3             01:53.0\n",
       "5        1500             01:58.3             01:52.7             01:47.0"
      ]
     },
     "execution_count": 123,
     "metadata": {},
     "output_type": "execute_result"
    }
   ],
   "source": [
    "filter = (c2_log['Workout Name'] == workout_name) & (c2_log['/500m'].isnull() == False) #& (c2_log['Meters.1'].isnull() == False)\n",
    "#pv = c2_log[filter][['Date', '/500m', 'Time.1', 'workout_seq']].pivot(columns='Date', index='workout_seq', values='/500m')\n",
    "pv = (c2_log[filter][['Meters.1', 'Date', '/500m', 'workout_seq']]\n",
    "          .set_index(['Meters.1', 'workout_seq', 'Date']).unstack().sort_index(level=1)\n",
    "          .reset_index().drop('workout_seq', axis=1))\n",
    "pv"
   ]
  },
  {
   "cell_type": "code",
   "execution_count": 124,
   "metadata": {
    "ExecuteTime": {
     "end_time": "2018-07-29T04:12:03.524053Z",
     "start_time": "2018-07-29T04:12:03.518761Z"
    }
   },
   "outputs": [],
   "source": [
    "def pad_cols(col_width, values, col_zero_str=''):\n",
    "    s = col_zero_str\n",
    "    for v in values:\n",
    "        s = s + str(v).ljust(col_width, '-')\n",
    "    return s + '\\n'"
   ]
  },
  {
   "cell_type": "code",
   "execution_count": 125,
   "metadata": {
    "ExecuteTime": {
     "end_time": "2018-07-29T04:12:04.301357Z",
     "start_time": "2018-07-29T04:12:04.256519Z"
    }
   },
   "outputs": [
    {
     "name": "stdout",
     "output_type": "stream",
     "text": [
      "('---------------2018-06-13-----2018-07-04-----2018-07-28-----\\n'\n",
      " '1500-----------01:54.5--------01:55.4--------01:53.4--------\\n'\n",
      " '1500-----------01:55.5--------01:54.8--------01:53.4--------\\n'\n",
      " '1500-----------01:57.2--------01:55.4--------01:53.3--------\\n'\n",
      " '1500-----------01:57.3--------01:55.3--------01:53.0--------\\n'\n",
      " '1500-----------01:58.3--------01:52.7--------01:47.0--------\\n'\n",
      " '\\n'\n",
      " 'AVGs-----------01:56.6--------01:54.7--------01:52.0--------\\n')\n"
     ]
    }
   ],
   "source": [
    "col_width = 15\n",
    "\n",
    "s = pad_cols(col_width,[str(c[1].date()) for c in pv.columns if isinstance(c[1], pd.Timestamp)], col_zero_str=('-' * col_width))\n",
    "\n",
    "for _, row in pv.iterrows():\n",
    "    row_str = pad_cols(col_width, row)\n",
    "    if row_str[:3] == 'nan':\n",
    "        avgs = '\\nAVGs' + row_str[4:]\n",
    "    else:\n",
    "        s = s + row_str\n",
    "\n",
    "s = s + avgs\n",
    "os.system(\"echo '%s' | pbcopy\" % s)\n",
    "\n",
    "pprint.pprint(s)"
   ]
  },
  {
   "cell_type": "markdown",
   "metadata": {},
   "source": [
    "### PRs"
   ]
  },
  {
   "cell_type": "code",
   "execution_count": 51,
   "metadata": {
    "ExecuteTime": {
     "end_time": "2018-07-28T18:17:28.845934Z",
     "start_time": "2018-07-28T18:17:28.812967Z"
    }
   },
   "outputs": [
    {
     "data": {
      "text/html": [
       "<div>\n",
       "<style scoped>\n",
       "    .dataframe tbody tr th:only-of-type {\n",
       "        vertical-align: middle;\n",
       "    }\n",
       "\n",
       "    .dataframe tbody tr th {\n",
       "        vertical-align: top;\n",
       "    }\n",
       "\n",
       "    .dataframe thead th {\n",
       "        text-align: right;\n",
       "    }\n",
       "</style>\n",
       "<table border=\"1\" class=\"dataframe\">\n",
       "  <thead>\n",
       "    <tr style=\"text-align: right;\">\n",
       "      <th></th>\n",
       "      <th></th>\n",
       "      <th>Date</th>\n",
       "      <th>Time</th>\n",
       "      <th>time_seconds</th>\n",
       "      <th>/500m</th>\n",
       "    </tr>\n",
       "    <tr>\n",
       "      <th>Workout Name</th>\n",
       "      <th></th>\n",
       "      <th></th>\n",
       "      <th></th>\n",
       "      <th></th>\n",
       "      <th></th>\n",
       "    </tr>\n",
       "  </thead>\n",
       "  <tbody>\n",
       "    <tr>\n",
       "      <th>100m</th>\n",
       "      <th>858</th>\n",
       "      <td>2015-09-06</td>\n",
       "      <td>00:16.8</td>\n",
       "      <td>16.8</td>\n",
       "      <td>01:24.0</td>\n",
       "    </tr>\n",
       "    <tr>\n",
       "      <th>500m</th>\n",
       "      <th>836</th>\n",
       "      <td>2015-09-13</td>\n",
       "      <td>01:24.8</td>\n",
       "      <td>84.8</td>\n",
       "      <td>01:24.8</td>\n",
       "    </tr>\n",
       "    <tr>\n",
       "      <th>1000m</th>\n",
       "      <th>823</th>\n",
       "      <td>2015-09-20</td>\n",
       "      <td>03:07.0</td>\n",
       "      <td>187.0</td>\n",
       "      <td>01:33.5</td>\n",
       "    </tr>\n",
       "    <tr>\n",
       "      <th>2000m</th>\n",
       "      <th>686</th>\n",
       "      <td>2017-02-12</td>\n",
       "      <td>06:50.4</td>\n",
       "      <td>410.4</td>\n",
       "      <td>01:42.6</td>\n",
       "    </tr>\n",
       "    <tr>\n",
       "      <th>5000m</th>\n",
       "      <th>1046</th>\n",
       "      <td>2013-06-03</td>\n",
       "      <td>18:50.4</td>\n",
       "      <td>1130.4</td>\n",
       "      <td>01:53.0</td>\n",
       "    </tr>\n",
       "  </tbody>\n",
       "</table>\n",
       "</div>"
      ],
      "text/plain": [
       "                        Date     Time  time_seconds    /500m\n",
       "Workout Name                                                \n",
       "100m         858  2015-09-06  00:16.8          16.8  01:24.0\n",
       "500m         836  2015-09-13  01:24.8          84.8  01:24.8\n",
       "1000m        823  2015-09-20  03:07.0         187.0  01:33.5\n",
       "2000m        686  2017-02-12  06:50.4         410.4  01:42.6\n",
       "5000m        1046 2013-06-03  18:50.4        1130.4  01:53.0"
      ]
     },
     "execution_count": 51,
     "metadata": {},
     "output_type": "execute_result"
    }
   ],
   "source": [
    "# 06:45.8 2000 Bob Haffner 1:41.4\n",
    "filter = c2_log['Workout Name'].isin(['100m', '500m', '1000m', '2000m', '5000m'])\n",
    "cols = ['Date', 'Time', 'time_seconds', '/500m']\n",
    "c2_log[filter].groupby('Workout Name')[cols].apply(lambda x : x.nsmallest(n=1, columns='time_seconds')).sort_values('time_seconds')"
   ]
  },
  {
   "cell_type": "code",
   "execution_count": null,
   "metadata": {},
   "outputs": [],
   "source": []
  }
 ],
 "metadata": {
  "kernelspec": {
   "display_name": "Python [conda env:dev35]",
   "language": "python",
   "name": "conda-env-dev35-py"
  },
  "language_info": {
   "codemirror_mode": {
    "name": "ipython",
    "version": 3
   },
   "file_extension": ".py",
   "mimetype": "text/x-python",
   "name": "python",
   "nbconvert_exporter": "python",
   "pygments_lexer": "ipython3",
   "version": "3.5.4"
  }
 },
 "nbformat": 4,
 "nbformat_minor": 2
}
